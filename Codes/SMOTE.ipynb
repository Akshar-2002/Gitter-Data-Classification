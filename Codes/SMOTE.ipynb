{
  "cells": [
    {
      "cell_type": "code",
      "execution_count": null,
      "metadata": {
        "id": "NC_lxRWU0KNU"
      },
      "outputs": [],
      "source": [
        "import pandas as pd\n",
        "import numpy as np\n",
        "import math\n",
        "from matplotlib import pyplot\n",
        "from scipy.stats import ranksums\n",
        "import statsmodels.api as sm\n",
        "import nltk"
      ]
    },
    {
      "cell_type": "code",
      "execution_count": null,
      "metadata": {
        "colab": {
          "base_uri": "https://localhost:8080/"
        },
        "id": "1dagSTImhpDq",
        "outputId": "052f31e7-8883-447b-b64e-9f3c7ec6b8a0"
      },
      "outputs": [
        {
          "name": "stderr",
          "output_type": "stream",
          "text": [
            "[nltk_data] Downloading package stopwords to /root/nltk_data...\n",
            "[nltk_data]   Unzipping corpora/stopwords.zip.\n",
            "[nltk_data] Downloading package punkt to /root/nltk_data...\n",
            "[nltk_data]   Unzipping tokenizers/punkt.zip.\n"
          ]
        },
        {
          "data": {
            "text/plain": [
              "True"
            ]
          },
          "execution_count": 2,
          "metadata": {},
          "output_type": "execute_result"
        }
      ],
      "source": [
        "import warnings\n",
        "warnings.filterwarnings('ignore')\n",
        "\n",
        "nltk.download('stopwords')\n",
        "nltk.download('punkt')"
      ]
    },
    {
      "cell_type": "code",
      "execution_count": null,
      "metadata": {
        "colab": {
          "base_uri": "https://localhost:8080/"
        },
        "id": "unrVS3HOhukX",
        "outputId": "15506255-a71e-433b-9bfc-01b81ccf01b4"
      },
      "outputs": [
        {
          "name": "stdout",
          "output_type": "stream",
          "text": [
            "Mounted at /content/gdrive\n"
          ]
        }
      ],
      "source": [
        "from google.colab import drive\n",
        "drive.mount('/content/gdrive')"
      ]
    },
    {
      "cell_type": "code",
      "execution_count": null,
      "metadata": {
        "id": "Iz3Pij6Y0KNd"
      },
      "outputs": [],
      "source": [
        "from imblearn.over_sampling import SMOTE\n",
        "from imblearn.over_sampling import BorderlineSMOTE\n",
        "from imblearn.over_sampling import SVMSMOTE"
      ]
    },
    {
      "cell_type": "code",
      "execution_count": null,
      "metadata": {
        "id": "rmyop542DiGN"
      },
      "outputs": [],
      "source": [
        "df = pd.read_csv('/content/gdrive/My Drive/GitterCom_Project/GitterCom_Sampled.csv')"
      ]
    },
    {
      "cell_type": "code",
      "execution_count": null,
      "metadata": {
        "id": "DPzsJSRLDiMt"
      },
      "outputs": [],
      "source": [
        "Y = df['Purpose'].to_numpy()"
      ]
    },
    {
      "cell_type": "code",
      "execution_count": null,
      "metadata": {
        "id": "NxogS48XDiSO"
      },
      "outputs": [],
      "source": [
        "sm = SMOTE(random_state=25)"
      ]
    },
    {
      "cell_type": "code",
      "execution_count": null,
      "metadata": {
        "colab": {
          "base_uri": "https://localhost:8080/"
        },
        "id": "8zQgjFunGht4",
        "outputId": "d0a2d49f-a649-4701-cb9b-a86bfd140b96"
      },
      "outputs": [
        {
          "data": {
            "text/plain": [
              "array(['Community support', 'Personal benefits', 'Team Wide'],\n",
              "      dtype=object)"
            ]
          },
          "execution_count": 8,
          "metadata": {},
          "output_type": "execute_result"
        }
      ],
      "source": [
        "np.unique(Y)"
      ]
    },
    {
      "cell_type": "code",
      "execution_count": null,
      "metadata": {
        "colab": {
          "base_uri": "https://localhost:8080/"
        },
        "id": "BbZw4a3RJGs0",
        "outputId": "a1ac318f-728b-4bcd-e184-80c54d72b99c"
      },
      "outputs": [
        {
          "data": {
            "text/plain": [
              "array([1, 1, 1, ..., 1, 1, 1])"
            ]
          },
          "execution_count": 9,
          "metadata": {},
          "output_type": "execute_result"
        }
      ],
      "source": [
        "Y[Y == 'Team Wide'] = 1\n",
        "Y[Y == 'Personal benefits'] = 2\n",
        "Y[Y == 'Community support'] = 3\n",
        "Y = Y.astype('int')\n",
        "Y"
      ]
    },
    {
      "cell_type": "code",
      "execution_count": null,
      "metadata": {
        "colab": {
          "base_uri": "https://localhost:8080/"
        },
        "id": "tnAoUhyMJGvG",
        "outputId": "1f9bd626-971b-454d-9706-e7181c07fb30"
      },
      "outputs": [
        {
          "data": {
            "text/plain": [
              "array([1, 2, 3])"
            ]
          },
          "execution_count": 10,
          "metadata": {},
          "output_type": "execute_result"
        }
      ],
      "source": [
        "np.unique(Y)"
      ]
    },
    {
      "cell_type": "code",
      "execution_count": null,
      "metadata": {
        "id": "9KNyLCJKFHlj"
      },
      "outputs": [],
      "source": [
        "#SMOTE\n",
        "for i in range(1, 28):\n",
        "  fname = '/content/gdrive/My Drive/GitterCom_Project/' + str(i) + '.csv'\n",
        "  df = np.loadtxt(fname, delimiter=\",\", dtype = float)\n",
        "\n",
        "  out1 = np.concatenate((df, Y.reshape(-1,1)), axis=1)\n",
        "  fname = str(i) + \".csv\"\n",
        "  np.savetxt(fname, out1, delimiter=',', fmt='%f')\n",
        "\n",
        "  datan=out1[:,0:-1]\n",
        "  out=out1[:,-1]\n",
        "  X_res, y_res = sm.fit_resample(datan,out)\n",
        "  y = y_res.reshape(-1,1)\n",
        "  out2 = np.concatenate((X_res, y), axis=1)\n",
        "  fname = str(27+i) + \".csv\"\n",
        "  np.savetxt(fname, out2, delimiter=',', fmt='%f')  "
      ]
    },
    {
      "cell_type": "code",
      "execution_count": null,
      "metadata": {
        "id": "koByq4Ye0KNq"
      },
      "outputs": [],
      "source": []
    }
  ],
  "metadata": {
    "accelerator": "TPU",
    "colab": {
      "machine_shape": "hm",
      "provenance": []
    },
    "gpuClass": "standard",
    "kernelspec": {
      "display_name": "Python 3",
      "language": "python",
      "name": "python3"
    },
    "language_info": {
      "codemirror_mode": {
        "name": "ipython",
        "version": 3
      },
      "file_extension": ".py",
      "mimetype": "text/x-python",
      "name": "python",
      "nbconvert_exporter": "python",
      "pygments_lexer": "ipython3",
      "version": "3.8.5"
    }
  },
  "nbformat": 4,
  "nbformat_minor": 0
}
